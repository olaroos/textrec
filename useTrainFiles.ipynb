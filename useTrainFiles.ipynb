{
 "cells": [
  {
   "cell_type": "code",
   "execution_count": 4,
   "metadata": {
    "collapsed": true
   },
   "outputs": [],
   "source": [
    "import theano\n",
    "import theano.tensor as T\n",
    "import theano.tensor.nnet as nnet\n",
    "import numpy as np\n",
    "import time\n",
    "\n",
    "import cv2 \n",
    "import numpy as np\n",
    "import math\n",
    "from matplotlib import pyplot as plt\n",
    "%matplotlib inline\n",
    "from scipy import signal\n",
    "import time\n",
    "from math import sqrt\n",
    "from skimage import transform\n",
    "import skimage \n"
   ]
  },
  {
   "cell_type": "code",
   "execution_count": null,
   "metadata": {
    "collapsed": false
   },
   "outputs": [],
   "source": []
  },
  {
   "cell_type": "code",
   "execution_count": 5,
   "metadata": {
    "collapsed": false
   },
   "outputs": [],
   "source": [
    "import random\n",
    "\n",
    "class Network(object):\n",
    "\n",
    "    def __init__(self, sizes):\n",
    "        \"\"\"The list ``sizes`` contains the number of neurons in the\n",
    "        respective layers of the network.  For example, if the list\n",
    "        was [2, 3, 1] then it would be a three-layer network, with the\n",
    "        first layer containing 2 neurons, the second layer 3 neurons,\n",
    "        and the third layer 1 neuron.  The biases and weights for the\n",
    "        network are initialized randomly, using a Gaussian\n",
    "        distribution with mean 0, and variance 1.  Note that the first\n",
    "        layer is assumed to be an input layer, and by convention we\n",
    "        won't set any biases for those neurons, since biases are only\n",
    "        ever used in computing the outputs from later layers.\"\"\"\n",
    "        self.num_layers = len(sizes)\n",
    "        self.sizes = sizes\n",
    "        self.biases = [np.random.randn(y, 1) for y in sizes[1:]]\n",
    "        self.weights = [np.random.randn(y, x)\n",
    "                        for x, y in zip(sizes[:-1], sizes[1:])]\n",
    "\n",
    "    def feedforward(self, a):\n",
    "        \"\"\"Return the output of the network if ``a`` is input.\"\"\"\n",
    "        for b, w in zip(self.biases, self.weights):\n",
    "            a = sigmoid(np.dot(w, a)+b)\n",
    "        return a\n",
    "\n",
    "    def SGD(self, training_data, epochs, mini_batch_size, eta,\n",
    "            test_data=None):\n",
    "        \"\"\"Train the neural network using mini-batch stochastic\n",
    "        gradient descent.  The ``training_data`` is a list of tuples\n",
    "        ``(x, y)`` representing the training inputs and the desired\n",
    "        outputs.  The other non-optional parameters are\n",
    "        self-explanatory.  If ``test_data`` is provided then the\n",
    "        network will be evaluated against the test data after each\n",
    "        epoch, and partial progress printed out.  This is useful for\n",
    "        tracking progress, but slows things down substantially.\"\"\"\n",
    "        if test_data: n_test = len(test_data)\n",
    "        n = len(training_data)\n",
    "        for j in xrange(epochs):\n",
    "            random.shuffle(training_data)\n",
    "            mini_batches = [\n",
    "                training_data[k:k+mini_batch_size]\n",
    "                for k in xrange(0, n, mini_batch_size)]\n",
    "            for mini_batch in mini_batches:\n",
    "                self.update_mini_batch(mini_batch, eta)\n",
    "            if test_data:\n",
    "                print \"Epoch {0}: {1} / {2}\".format(\n",
    "                    j, self.evaluate(test_data), n_test)\n",
    "            else:\n",
    "                print \"Epoch {0} complete\".format(j)\n",
    "\n",
    "    def update_mini_batch(self, mini_batch, eta):\n",
    "        \"\"\"Update the network's weights and biases by applying\n",
    "        gradient descent using backpropagation to a single mini batch.\n",
    "        The ``mini_batch`` is a list of tuples ``(x, y)``, and ``eta``\n",
    "        is the learning rate.\"\"\"\n",
    "        nabla_b = [np.zeros(b.shape) for b in self.biases]\n",
    "        nabla_w = [np.zeros(w.shape) for w in self.weights]\n",
    "        for x, y in mini_batch:\n",
    "            delta_nabla_b, delta_nabla_w = self.backprop(x, y)\n",
    "            nabla_b = [nb+dnb for nb, dnb in zip(nabla_b, delta_nabla_b)]\n",
    "            nabla_w = [nw+dnw for nw, dnw in zip(nabla_w, delta_nabla_w)]        \n",
    "        self.weights = [w-(eta/len(mini_batch))*nw\n",
    "                        for w, nw in zip(self.weights, nabla_w)]\n",
    "        self.biases = [b-(eta/len(mini_batch))*nb\n",
    "                       for b, nb in zip(self.biases, nabla_b)]\n",
    "\n",
    "    def backprop(self, x, y):\n",
    "        \"\"\"Return a tuple ``(nabla_b, nabla_w)`` representing the\n",
    "        gradient for the cost function C_x.  ``nabla_b`` and\n",
    "        ``nabla_w`` are layer-by-layer lists of numpy arrays, similar\n",
    "        to ``self.biases`` and ``self.weights``.\"\"\"\n",
    "        nabla_b = [np.zeros(b.shape) for b in self.biases]\n",
    "        nabla_w = [np.zeros(w.shape) for w in self.weights]\n",
    "        # feedforward\n",
    "        activation = x\n",
    "        activations = [x] # list to store all the activations, layer by layer\n",
    "        zs = [] # list to store all the z vectors, layer by layer\n",
    "        for b, w in zip(self.biases, self.weights):\n",
    "            z = np.dot(w, activation)+b\n",
    "            zs.append(z)\n",
    "            activation = sigmoid(z)\n",
    "            activations.append(activation)\n",
    "        # backward pass\n",
    "\n",
    "        delta = self.cost_derivative(activations[-1], y) * \\\n",
    "            sigmoid_prime(zs[-1])\n",
    "                \n",
    "        nabla_b[-1] = delta\n",
    "        nabla_w[-1] = np.dot(delta, activations[-2].transpose())\n",
    "\n",
    "        # Note that the variable l in the loop below is used a little\n",
    "        # differently to the notation in Chapter 2 of the book.  Here,\n",
    "        # l = 1 means the last layer of neurons, l = 2 is the\n",
    "        # second-last layer, and so on.  It's a renumbering of the\n",
    "        # scheme in the book, used here to take advantage of the fact\n",
    "        # that Python can use negative indices in lists.\n",
    "        for l in xrange(2, self.num_layers):\n",
    "            z = zs[-l]\n",
    "            sp = sigmoid_prime(z)\n",
    "            delta = np.dot(self.weights[-l+1].transpose(), delta) * sp\n",
    "            nabla_b[-l] = delta\n",
    "            nabla_w[-l] = np.dot(delta, activations[-l-1].transpose())\n",
    "        return (nabla_b, nabla_w)\n",
    "\n",
    "    def update(self, x, y):        \n",
    "        nabla_b, nabla_w = self.backprop(x, y)        \n",
    "        if eta:\n",
    "            pass\n",
    "        else:\n",
    "            self.weights = [w - nw for w, nw in zip(self.weights, nabla_w)]\n",
    "            self.biases = [b - nb for b, nb in zip(self.biases, nabla_b)]\n",
    "         \n",
    "    \n",
    "    def evaluate(self, test_data):\n",
    "        \"\"\"Return the number of test inputs for which the neural\n",
    "        network outputs the correct result. Note that the neural\n",
    "        network's output is assumed to be the index of whichever\n",
    "        neuron in the final layer has the highest activation.\"\"\"\n",
    "        test_results = [(np.argmax(self.feedforward(x)), y)\n",
    "                        for (x, y) in test_data]\n",
    "        \"\"\"set a limit\"\"\"\n",
    "        match_limit = 0.1\n",
    "        output = sum(int(abs(x - y) < match_limit) for (x, y) in test_results)    \n",
    "        return output\n",
    "\n",
    "    def cost_derivative(self, output_activations, y):\n",
    "        \"\"\"Return the vector of partial derivatives \\partial C_x /\n",
    "        \\partial a for the output activations.\"\"\"\n",
    "        return (output_activations-y)\n",
    "\n",
    "#### Miscellaneous functions\n",
    "def sigmoid(z):\n",
    "    \"\"\"The sigmoid function.\"\"\"\n",
    "    return 1.0/(1.0+np.exp(-z))\n",
    "\n",
    "def sigmoid_prime(z):\n",
    "    \"\"\"Derivative of the sigmoid function.\"\"\"\n",
    "    return sigmoid(z)*(1-sigmoid(z))\n",
    "    \n"
   ]
  },
  {
   "cell_type": "code",
   "execution_count": 6,
   "metadata": {
    "collapsed": false
   },
   "outputs": [],
   "source": [
    "def readTrainingdata(filename):\n",
    "    \n",
    "    trainingData = []\n",
    "    theFile = open(filename, 'r')\n",
    "    line = theFile.readline()\n",
    "    while line != None and line != \"\":\n",
    "        values = line.split()\n",
    "        y = np.asarray([float(values[0])]).reshape(1,1)      \n",
    "        x = np.asarray(values[1:], dtype=float).reshape(29,1)\n",
    "        trainingData.append((x, y))\n",
    "        line = theFile.readline()\n",
    "    \n",
    "    return trainingData\n",
    "\n",
    "def getImgFromNet(net, img):\n",
    "    \n",
    "    width, height = img.shape\n",
    "    filtered = np.zeros((width, height))\n",
    "\n",
    "    radius = 3\n",
    "    kernel = circle(radius)\n",
    "    denominator = kernel.sum()\n",
    "    img_force_int = img.astype('float')\n",
    "    for x in range(radius, width-radius):\n",
    "        for y in range(radius, height-radius):\n",
    "            crop = img_force_int[x - radius:x + radius + 1, y - radius:y + radius + 1]\n",
    "            croped_crop = crop[kernel == 1].reshape(29,1)\n",
    "            output = net.feedforward(croped_crop)\n",
    "            filtered[x, y] = output\n",
    "    \n",
    "    return filtered"
   ]
  },
  {
   "cell_type": "code",
   "execution_count": 7,
   "metadata": {
    "collapsed": true
   },
   "outputs": [],
   "source": [
    "training_data = readTrainingdata('./training/train/img0_train0')"
   ]
  },
  {
   "cell_type": "code",
   "execution_count": 8,
   "metadata": {
    "collapsed": false
   },
   "outputs": [],
   "source": [
    "net = Network([29, 50, 50, 50, 1])\n",
    "\n"
   ]
  },
  {
   "cell_type": "code",
   "execution_count": 9,
   "metadata": {
    "collapsed": false
   },
   "outputs": [],
   "source": [
    "test_data = []\n",
    "for i in range(0,1000):\n",
    "    test_data.append(training_data[random.randint(0, len(training_data)-1)])\n",
    "    "
   ]
  },
  {
   "cell_type": "code",
   "execution_count": 445,
   "metadata": {
    "collapsed": false
   },
   "outputs": [],
   "source": [
    "# weightsBefore = [net.weights[2][0][0:5], net.weights[1][0][0:5], net.weights[0][0][0:5]]\n",
    "\n",
    "# start = time.time()\n",
    "# random.shuffle(training_data)\n",
    "# count = 0\n",
    "# epoch = 0\n",
    "# for x, y in training_data:\n",
    "#     count += 1\n",
    "#     net.update(x, y)\n",
    "#     if count % 10000 == 0:        \n",
    "#         print \"Epoch {0}: {1} / {2}\".format(\n",
    "#                     epoch, net.evaluate(test_data), len(test_data))\n",
    "#         weightsAfter = [net.weights[2][0][0:5], net.weights[1][0][0:5], net.weights[0][0][0:5]]\n",
    "#         for x, y in zip(weightsAfter, weightsBefore):\n",
    "#             print x - y\n",
    "#         epoch += 1\n",
    "#         weightsBefore = weightsAfter\n",
    "\n",
    "\n",
    "# print str(time.time() - start) + \"seconds\""
   ]
  },
  {
   "cell_type": "code",
   "execution_count": null,
   "metadata": {
    "collapsed": true
   },
   "outputs": [],
   "source": []
  },
  {
   "cell_type": "code",
   "execution_count": 12,
   "metadata": {
    "collapsed": false
   },
   "outputs": [
    {
     "name": "stdout",
     "output_type": "stream",
     "text": [
      "Epoch 0: 143 / 1000\n",
      "Epoch 1: 143 / 1000\n",
      "Epoch 2: 143 / 1000\n",
      "Epoch 3: 143 / 1000\n",
      "Epoch 4: 143 / 1000\n"
     ]
    }
   ],
   "source": [
    "# test_data_batch = []\n",
    "# for i in range(0,5):    \n",
    "#     test_data_batch.append(training_data[random.randint(0,len(training_data)-1)])\n",
    "\n",
    "# random.shuffle(training_data)\n",
    "net.SGD(training_data, epochs=5, mini_batch_size=50, eta=5, test_data=test_data)\n",
    "\n",
    "# weightsBefore = [net.weights[2][0][0:5], net.weights[1][0][0:5], net.weights[0][0][0:5]]\n",
    "\n",
    "# random.shuffle(training_data)\n",
    "\n",
    "# net.SGD(training_data[0:800], epochs=1, mini_batch_size=1, eta=10000, test_data=test_data_batch)\n",
    "\n",
    "# weightsAfter = [net.weights[2][0][0:5], net.weights[1][0][0:5], net.weights[0][0][0:5]]\n",
    "\n",
    "# for x, y in zip(weightsAfter, weightsBefore):\n",
    "#     print x - y"
   ]
  },
  {
   "cell_type": "code",
   "execution_count": null,
   "metadata": {
    "collapsed": true
   },
   "outputs": [],
   "source": []
  },
  {
   "cell_type": "code",
   "execution_count": 440,
   "metadata": {
    "collapsed": false
   },
   "outputs": [],
   "source": [
    "# weightsBefore = [net.weights[2][0][0:5], net.weights[1][0][0:5], net.weights[0][0][0:5]]\n",
    "# # print weightsBefore\n",
    "# # random.shuffle(training_data)\n",
    "# net.SGD(training_data[0:800], epochs=1, mini_batch_size=100, eta=100000000000000000000, test_data=test_data_batch)\n",
    "\n",
    "# weightsAfter = [net.weights[2][0][0:5], net.weights[1][0][0:5], net.weights[0][0][0:5]]\n",
    "# # print weightsAfter\n",
    "# for x, y in zip(weightsAfter, weightsBefore):\n",
    "#     print x - y"
   ]
  },
  {
   "cell_type": "code",
   "execution_count": null,
   "metadata": {
    "collapsed": true
   },
   "outputs": [],
   "source": []
  },
  {
   "cell_type": "code",
   "execution_count": null,
   "metadata": {
    "collapsed": true
   },
   "outputs": [],
   "source": []
  }
 ],
 "metadata": {
  "kernelspec": {
   "display_name": "Python 2",
   "language": "python",
   "name": "python2"
  },
  "language_info": {
   "codemirror_mode": {
    "name": "ipython",
    "version": 2
   },
   "file_extension": ".py",
   "mimetype": "text/x-python",
   "name": "python",
   "nbconvert_exporter": "python",
   "pygments_lexer": "ipython2",
   "version": "2.7.12"
  }
 },
 "nbformat": 4,
 "nbformat_minor": 1
}
