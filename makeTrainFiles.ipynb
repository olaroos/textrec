{
 "cells": [
  {
   "cell_type": "code",
   "execution_count": 66,
   "metadata": {
    "collapsed": false
   },
   "outputs": [],
   "source": [
    "import theano\n",
    "import theano.tensor as T\n",
    "import theano.tensor.nnet as nnet\n",
    "import numpy as np\n",
    "import time\n",
    "\n",
    "import cv2 \n",
    "import numpy as np\n",
    "import math\n",
    "from matplotlib import pyplot as plt\n",
    "%matplotlib inline\n",
    "from scipy import signal\n",
    "import time\n",
    "from math import sqrt\n",
    "from skimage import transform\n",
    "import skimage "
   ]
  },
  {
   "cell_type": "code",
   "execution_count": 67,
   "metadata": {
    "collapsed": false
   },
   "outputs": [],
   "source": [
    "circle = lambda r: np.array([[1 if sqrt((i-r)**2 + (j-r)**2) <= r else 0 for j in range(0, 2*r+1)] for i in range(0, 2*r+1)])\n",
    "\n",
    "def createM1TrainingFile(M1filter, img, saveFileAs):\n",
    "    assert(M1filter.shape == img.shape)\n",
    "    radius = 3\n",
    "    kernel = circle(radius)\n",
    "    width, height = img.shape\n",
    "\n",
    "    theFile = open(saveFileAs, 'w')\n",
    "    for x in range(radius, width-radius):\n",
    "        for y in range(radius, height-radius):\n",
    "            crop = img[x - radius:x + radius + 1, y - radius:y + radius + 1]\n",
    "            croped_crop = crop[kernel == 1]\n",
    "            output = str(M1filter[x][y]) + \" \"\n",
    "            for pixel in croped_crop:\n",
    "                output += str(pixel) + \" \"            \n",
    "            print>> theFile, output\n",
    "            \n",
    "    theFile.close() \n",
    "\n",
    "def scaleTo1(img):\n",
    "    return (img - np.amin(img) ) / float((np.amax(img) - np.amin(img)))\n",
    "\n",
    "def ZMUV(image):\n",
    "    \"\"\"global zero mean unit variance (ZMUV) normalization\"\"\"\n",
    "    image = image - np.mean(image)\n",
    "    return image/np.std(image)\n",
    "\n",
    "def plot(img):\n",
    "    plt.figure(num=None, figsize=(4, 4), dpi=200, facecolor='w', edgecolor='k')\n",
    "    plt.imshow(img, 'gray')\n",
    "\n",
    "def rotate90(img):\n",
    "    cols, rows = img.shape\n",
    "    xshift = cols/2 - rows/2\n",
    "    yshift = rows/2 - cols/2\n",
    "#     rows, cols = img.shape\n",
    "    M = cv2.getRotationMatrix2D((cols/2,rows/2),90,1)\n",
    "    M[0][2] = M[0][2] - xshift\n",
    "    M[1][2] = M[1][2] + yshift    \n",
    "    dst = cv2.warpAffine(img,M,(cols,rows))\n",
    "\n",
    "    return dst\n",
    "\n",
    "def rotate45(img):\n",
    "    rows, cols = img.shape\n",
    "    M = cv2.getRotationMatrix2D((cols/2,rows/2),45,1)\n",
    "    dst = cv2.warpAffine(img,M,(cols, rows))\n",
    "    if rows > cols:\n",
    "        bh = int(cols / (2 * np.cos(np.pi/4)))-1\n",
    "    else:\n",
    "        bh = int(rows / (2 * np.cos(np.pi/4)))-1\n",
    "    \n",
    "    # crop image by new base-height\n",
    "    \n",
    "    return dst, bh\n"
   ]
  },
  {
   "cell_type": "code",
   "execution_count": 70,
   "metadata": {
    "collapsed": false
   },
   "outputs": [],
   "source": [
    "def createM1training(imgName, filterName):\n",
    "    \n",
    "    img = cv2.imread(\"./training/preprocess/\"+imgName+\"_input.jpg\", 0)\n",
    "    M1 = cv2.imread(\"./training/preprocess/\"+imgName+\"_\"+filterName+\".jpg\", 0)\n",
    "    \n",
    "    # img = ZMUV(img)\n",
    "    # M1 = ZMUV(M1)\n",
    "\n",
    "    img = scaleTo1(img)\n",
    "    M1 = scaleTo1(M1)\n",
    "    \n",
    "    # save img; rotate img 90 degrees three times\n",
    "    createM1TrainingFile(M1, img, \"./training/train/\"+imgName+\"_train0\")\n",
    "    \n",
    "    img90 = rotate90(img)\n",
    "    M190 = rotate90(M1)\n",
    "    createM1TrainingFile(M190, img90, \"./training/train/\"+imgName+\"_train1\")\n",
    "    \n",
    "    img90 = rotate90(img90)\n",
    "    M190 = rotate90(M190)\n",
    "    createM1TrainingFile(M190, img90, \"./training/train/\"+imgName+\"_train2\")\n",
    "    \n",
    "    img90 = rotate90(img90)\n",
    "    M190 = rotate90(M190)\n",
    "    createM1TrainingFile(M190, img90, \"./training/train/\"+imgName+\"_train3\")    \n",
    "    \n",
    "    # rotate img 45 degrees; crop; save; rotate 90 degrees three times\n",
    "    img45, bh = rotate45(img)\n",
    "    M145, bh = rotate45(M1)\n",
    "    rows, cols = img45.shape\n",
    "    xcenter = rows/2\n",
    "    ycenter = cols/2\n",
    "    cropimg45 = img45[int(xcenter - bh/2):int(xcenter + bh/2), int(ycenter - bh/2):int(ycenter + bh/2)]\n",
    "    cropM145 = M145[int(xcenter - bh/2):int(xcenter + bh/2), int(ycenter - bh/2):int(ycenter + bh/2)]\n",
    "    createM1TrainingFile(cropM145, cropimg45, \"./training/train/\"+imgName+\"_train4\")\n",
    "    \n",
    "    cropimg45 = rotate90(cropimg45)\n",
    "    cropM145 = rotate90(cropM145)\n",
    "    createM1TrainingFile(cropM145, cropimg45, \"./training/train/\"+imgName+\"_train5\")    \n",
    "\n",
    "    cropimg45 = rotate90(cropimg45)\n",
    "    cropM145 = rotate90(cropM145)\n",
    "    createM1TrainingFile(cropM145, cropimg45, \"./training/train/\"+imgName+\"_train6\")    \n",
    "    \n",
    "    cropimg45 = rotate90(cropimg45)\n",
    "    cropM145 = rotate90(cropM145)\n",
    "    createM1TrainingFile(cropM145, cropimg45, \"./training/train/\"+imgName+\"_train7\")        \n",
    "    \n"
   ]
  },
  {
   "cell_type": "code",
   "execution_count": 72,
   "metadata": {
    "collapsed": false
   },
   "outputs": [],
   "source": [
    "createM1training('img0', \"M1\")"
   ]
  },
  {
   "cell_type": "code",
   "execution_count": null,
   "metadata": {
    "collapsed": true
   },
   "outputs": [],
   "source": []
  }
 ],
 "metadata": {
  "kernelspec": {
   "display_name": "Python 2",
   "language": "python",
   "name": "python2"
  },
  "language_info": {
   "codemirror_mode": {
    "name": "ipython",
    "version": 2
   },
   "file_extension": ".py",
   "mimetype": "text/x-python",
   "name": "python",
   "nbconvert_exporter": "python",
   "pygments_lexer": "ipython2",
   "version": "2.7.12"
  }
 },
 "nbformat": 4,
 "nbformat_minor": 1
}
