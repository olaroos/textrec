{
 "cells": [
  {
   "cell_type": "code",
   "execution_count": 2,
   "metadata": {
    "collapsed": false
   },
   "outputs": [],
   "source": [
    "import theano\n",
    "import theano.tensor as T\n",
    "import theano.tensor.nnet as nnet\n",
    "import numpy as np\n",
    "import time\n",
    "\n",
    "import cv2 \n",
    "import numpy as np\n",
    "import math\n",
    "from matplotlib import pyplot as plt\n",
    "%matplotlib inline\n",
    "from scipy import signal\n",
    "import time\n",
    "from math import sqrt\n",
    "from skimage import transform\n",
    "import skimage "
   ]
  },
  {
   "cell_type": "code",
   "execution_count": null,
   "metadata": {
    "collapsed": true
   },
   "outputs": [],
   "source": [
    "def createTrainingFile(Mfilter, img, filename):\n",
    "    assert(Mfilter.shape == img.shape)\n",
    "    radius = 3\n",
    "    \n",
    "    kernel = circle(radius)\n",
    "    width, height = img.shape\n",
    "    \n",
    "    theFile = open(filename, 'w')\n",
    "    for x in range(radius, width-radius):\n",
    "        for y in range(radius, height-radius):\n",
    "            crop = Mfilter[x - radius:x + radius + 1, y - radius:y + radius + 1]\n",
    "            croped_crop = crop[kernel == 1]\n",
    "            output = str(img[x][y]) + \" \"\n",
    "            for pixel in croped_crop:\n",
    "                output += str(pixel) + \" \"            \n",
    "            print>> theFile, output\n",
    "            \n",
    "    theFile.close() \n",
    "\n",
    "def readTrainingFile(filename):\n",
    "    \n",
    "    theFile = open(filename, 'r')\n",
    "    line = theFile.readline()\n",
    "    while line != None:\n",
    "        values = line.split()\n",
    "        target = float(values[0])\n",
    "        training = np.asarray(values[1:], dtype=float)\n",
    "        line = theFile.readline()\n",
    "\n",
    "\n",
    "def createTrainingdata(filename):\n",
    "    \n",
    "    trainingData = []\n",
    "    theFile = open(filename, 'r')\n",
    "    line = theFile.readline()\n",
    "    while line != None and line != \"\":\n",
    "        values = line.split()\n",
    "        y = np.array([float(values[0])])        \n",
    "        x = np.asarray(values[1:], dtype=float).reshape(29,1)\n",
    "        trainingData.append((x, y))\n",
    "        line = theFile.readline()\n",
    "    \n",
    "    return trainingData\n",
    "\n",
    "def prepImg(fileName, scale):\n",
    "    img = cv2.imread(fileName, 0)\n",
    "    kernel = np.ones((5,5),np.float32)/25\n",
    "    dst = cv2.filter2D(img,-1,kernel)\n",
    "    img_rescaled = get_rescaled(dst, scale)    \n",
    "    return img_rescaled\n",
    "\n",
    "def normalizeStd1Mean0(image):\n",
    "    image = image - np.mean(image)\n",
    "    return image/np.std(image)\n",
    "\n",
    "def M1window(M1):\n",
    "    \n",
    "\n",
    "training_data = createTrainingdata('./trainingSet/train1')"
   ]
  }
 ],
 "metadata": {
  "kernelspec": {
   "display_name": "Python 2",
   "language": "python",
   "name": "python2"
  },
  "language_info": {
   "codemirror_mode": {
    "name": "ipython",
    "version": 2
   },
   "file_extension": ".py",
   "mimetype": "text/x-python",
   "name": "python",
   "nbconvert_exporter": "python",
   "pygments_lexer": "ipython2",
   "version": "2.7.12"
  }
 },
 "nbformat": 4,
 "nbformat_minor": 1
}
